{
 "cells": [
  {
   "cell_type": "code",
   "execution_count": 5,
   "id": "998e9456",
   "metadata": {},
   "outputs": [
    {
     "name": "stdout",
     "output_type": "stream",
     "text": [
      "3 1000\n"
     ]
    }
   ],
   "source": [
    "a,b=map(int,input().split())"
   ]
  },
  {
   "cell_type": "code",
   "execution_count": 6,
   "id": "2ef6afe4",
   "metadata": {},
   "outputs": [
    {
     "name": "stdout",
     "output_type": "stream",
     "text": [
      "3 1000\n"
     ]
    }
   ],
   "source": [
    "k,m=[int(x) for x in input().split()]\n"
   ]
  },
  {
   "cell_type": "code",
   "execution_count": 7,
   "id": "59203545",
   "metadata": {},
   "outputs": [
    {
     "name": "stdout",
     "output_type": "stream",
     "text": [
      "3 1000\n"
     ]
    }
   ],
   "source": [
    "km=list(map(int,input().split()))\n"
   ]
  },
  {
   "cell_type": "code",
   "execution_count": 8,
   "id": "d4c3b197",
   "metadata": {},
   "outputs": [
    {
     "name": "stdout",
     "output_type": "stream",
     "text": [
      "3 1000\n"
     ]
    }
   ],
   "source": [
    "km=list(map(int,input().split()))\n",
    "k,m=km[0],km[1]"
   ]
  },
  {
   "cell_type": "code",
   "execution_count": 14,
   "id": "c41791c3",
   "metadata": {},
   "outputs": [
    {
     "name": "stdout",
     "output_type": "stream",
     "text": [
      "3 1000\n",
      "2 5 4\n",
      "3 7 8 9\n",
      "5 5 7 8 9 10\n",
      "[99, 123, 138, 155, 174, 114, 138, 153, 170, 189, 131, 155, 170, 187, 206, 90, 114, 129, 146, 165, 105, 129, 144, 161, 180, 122, 146, 161, 178, 197]\n",
      "206\n"
     ]
    }
   ],
   "source": [
    "from itertools import product\n",
    "\n",
    "km=list(map(int,input().split()))\n",
    "k,m=km[0],km[1]\n",
    "\n",
    "res=[]\n",
    "\n",
    "for i in range(k):\n",
    "    res.append(list(map(int,input().split()))[1:])\n",
    "    \n",
    "s=list(product(*res))\n",
    "\n",
    "d=[]\n",
    "\n",
    "for j in s:\n",
    "    c=0\n",
    "    for k in j:\n",
    "        c=c+k**2\n",
    "        \n",
    "    d.append(c%m)\n",
    "print(d)\n",
    "\n",
    "print(max(d))\n",
    "        \n",
    "\n",
    "        "
   ]
  },
  {
   "cell_type": "code",
   "execution_count": null,
   "id": "6dcb7fa5",
   "metadata": {},
   "outputs": [],
   "source": [
    "3 1000\n",
    "2 5 4\n",
    "3 7 8 9 \n",
    "5 5 7 8 9 10 "
   ]
  },
  {
   "cell_type": "code",
   "execution_count": 15,
   "id": "2cc6f312",
   "metadata": {},
   "outputs": [
    {
     "name": "stdout",
     "output_type": "stream",
     "text": [
      "3 1000\n",
      "2 5 4\n",
      "3 7 8 9\n",
      "5 5 7 8 9 10\n",
      "206\n"
     ]
    }
   ],
   "source": [
    "from itertools import product\n",
    "\n",
    "K,M = map(int,input().split())\n",
    "N = (list(map(int, input().split()))[1:] for j in range(K))\n",
    "results = map(lambda x: sum(i**2 for i in x)%M, product(*N))\n",
    "print(max(results))"
   ]
  },
  {
   "cell_type": "code",
   "execution_count": null,
   "id": "877eb7ad",
   "metadata": {},
   "outputs": [],
   "source": []
  }
 ],
 "metadata": {
  "kernelspec": {
   "display_name": "Python 3",
   "language": "python",
   "name": "python3"
  },
  "language_info": {
   "codemirror_mode": {
    "name": "ipython",
    "version": 3
   },
   "file_extension": ".py",
   "mimetype": "text/x-python",
   "name": "python",
   "nbconvert_exporter": "python",
   "pygments_lexer": "ipython3",
   "version": "3.8.8"
  }
 },
 "nbformat": 4,
 "nbformat_minor": 5
}
